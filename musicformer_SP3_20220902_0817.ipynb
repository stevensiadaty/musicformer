{
 "cells": [
  {
   "cell_type": "markdown",
   "metadata": {
    "id": "9opKSK2RSDRg"
   },
   "source": [
    "# Train Neural Net, generate music\n",
    "## Piano, single track\n",
    "### Based on Google 2018 Music Transformer NN\n",
    "\n",
    "Codes recycled from:\n",
    "\n",
    "1) Alex https://github.com/asigalov61/SuperPiano/blob/master/Super_Piano_3.ipynb\n",
    "\n",
    "2) Damon https://github.com/gwinndr/MusicTransformer-Pytorch\n",
    "\n",
    "3) Jason https://github.com/jason9693/midi-neural-processor\n",
    "\n",
    "4) Mir https://github.com/mirsiadaty\n",
    "\n",
    "Thank you :)\n"
   ]
  },
  {
   "cell_type": "markdown",
   "metadata": {
    "id": "05hD19W0hSCP"
   },
   "source": [
    "## 1.1: initial imports"
   ]
  },
  {
   "cell_type": "code",
   "execution_count": 2,
   "metadata": {},
   "outputs": [
    {
     "name": "stdout",
     "output_type": "stream",
     "text": [
      "Fri Sep  2 15:52:33 2022\n"
     ]
    }
   ],
   "source": [
    "import time\n",
    "\n",
    "print(time.asctime( time.localtime( time.time() ) ))"
   ]
  },
  {
   "cell_type": "markdown",
   "metadata": {
    "id": "05hD19W0hSCP"
   },
   "source": [
    "## 1.2: create dir for this project"
   ]
  },
  {
   "cell_type": "code",
   "execution_count": 5,
   "metadata": {},
   "outputs": [
    {
     "name": "stdout",
     "output_type": "stream",
     "text": [
      "mkdir: cannot create directory ‘/home/mnt3p22//sp3_1’: File exists\n",
      "/home/mnt3p22/sp3_1\n",
      "total 444\n",
      "-rw-rw-r--  1 mnt3p22 mnt3p22 442217 Sep  2 15:30 MssNotes_Modeling_Musicformer_1.docx\n",
      "-rw-rw-r--  1 mnt3p22 mnt3p22     95 Sep  2 15:30 .~lock.MssNotes_Modeling_Musicformer_1.docx#\n",
      "drwxrwxr-x 10 mnt3p22 mnt3p22   4096 Sep  1 18:04 MusicTransformer-Pytorch\n",
      "drwxrwxr-x  5 mnt3p22 mnt3p22   4096 Sep  1 17:43 midi_processor\n",
      "Fri Sep  2 15:53:59 2022\n"
     ]
    }
   ],
   "source": [
    "# params\n",
    "YourHomeDir = '/home/mnt3p22/'\n",
    "YourProjectSubDir = 'sp3_1'\n",
    "\n",
    "#\n",
    "!mkdir $YourHomeDir/$YourProjectSubDir\n",
    "%cd $YourHomeDir/$YourProjectSubDir\n",
    "!ls -ltA \n",
    "\n",
    "print(time.asctime( time.localtime( time.time() ) ))"
   ]
  },
  {
   "cell_type": "markdown",
   "metadata": {
    "id": "05hD19W0hSCP"
   },
   "source": [
    "## 1.3: Check GPU and driver available"
   ]
  },
  {
   "cell_type": "code",
   "execution_count": 18,
   "metadata": {
    "cellView": "form",
    "id": "Ror_UJUp7wlO"
   },
   "outputs": [
    {
     "name": "stdout",
     "output_type": "stream",
     "text": [
      "nvcc: NVIDIA (R) Cuda compiler driver\n",
      "Copyright (c) 2005-2019 NVIDIA Corporation\n",
      "Built on Sun_Jul_28_19:07:16_PDT_2019\n",
      "Cuda compilation tools, release 10.1, V10.1.243\n",
      "Mon Aug 29 17:47:36 2022       \n",
      "+-----------------------------------------------------------------------------+\n",
      "| NVIDIA-SMI 470.141.03   Driver Version: 470.141.03   CUDA Version: 11.4     |\n",
      "|-------------------------------+----------------------+----------------------+\n",
      "| GPU  Name        Persistence-M| Bus-Id        Disp.A | Volatile Uncorr. ECC |\n",
      "| Fan  Temp  Perf  Pwr:Usage/Cap|         Memory-Usage | GPU-Util  Compute M. |\n",
      "|                               |                      |               MIG M. |\n",
      "|===============================+======================+======================|\n",
      "|   0  Quadro RTX 8000     Off  | 00000000:3B:00.0  On |                  Off |\n",
      "| 33%   47C    P0    70W / 260W |   1446MiB / 48600MiB |      4%      Default |\n",
      "|                               |                      |                  N/A |\n",
      "+-------------------------------+----------------------+----------------------+\n",
      "                                                                               \n",
      "+-----------------------------------------------------------------------------+\n",
      "| Processes:                                                                  |\n",
      "|  GPU   GI   CI        PID   Type   Process name                  GPU Memory |\n",
      "|        ID   ID                                                   Usage      |\n",
      "|=============================================================================|\n",
      "|    0   N/A  N/A      1224      G   /usr/lib/xorg/Xorg                214MiB |\n",
      "|    0   N/A  N/A      2010      G   /usr/lib/xorg/Xorg                985MiB |\n",
      "|    0   N/A  N/A      2170      G   /usr/bin/gnome-shell               73MiB |\n",
      "|    0   N/A  N/A      3858      G   /usr/lib/firefox/firefox          161MiB |\n",
      "+-----------------------------------------------------------------------------+\n",
      "Mon Aug 29 17:47:36 2022\n"
     ]
    }
   ],
   "source": [
    "!nvcc --version\n",
    "!nvidia-smi\n",
    "print(time.asctime( time.localtime( time.time() ) ))"
   ]
  },
  {
   "cell_type": "markdown",
   "metadata": {
    "id": "05hD19W0hSCP"
   },
   "source": [
    "## 2.1: clone github lib: Jason's MIDI"
   ]
  },
  {
   "cell_type": "code",
   "execution_count": 10,
   "metadata": {},
   "outputs": [
    {
     "name": "stdout",
     "output_type": "stream",
     "text": [
      "Cloning into 'midi-neural-processor'...\n",
      "remote: Enumerating objects: 27, done.\u001b[K\n",
      "remote: Counting objects: 100% (1/1), done.\u001b[K\n",
      "remote: Total 27 (delta 0), reused 0 (delta 0), pack-reused 26\u001b[K\n",
      "Unpacking objects: 100% (27/27), 8.56 KiB | 486.00 KiB/s, done.\n",
      "Mon Aug 29 16:29:13 2022\n"
     ]
    }
   ],
   "source": [
    "#!git clone https://github.com/asigalov61/midi-neural-processor\n",
    "!git clone https://github.com/jason9693/midi-neural-processor\n",
    "\n",
    "print(time.asctime( time.localtime( time.time() ) ))"
   ]
  },
  {
   "cell_type": "markdown",
   "metadata": {
    "id": "05hD19W0hSCP"
   },
   "source": [
    "## 2.2: clone github lib: Gwinn's NN"
   ]
  },
  {
   "cell_type": "code",
   "execution_count": 11,
   "metadata": {},
   "outputs": [
    {
     "name": "stdout",
     "output_type": "stream",
     "text": [
      "Cloning into 'MusicTransformer-Pytorch'...\n",
      "remote: Enumerating objects: 346, done.\u001b[K\n",
      "remote: Counting objects: 100% (14/14), done.\u001b[K\n",
      "remote: Compressing objects: 100% (8/8), done.\u001b[K\n",
      "remote: Total 346 (delta 5), reused 13 (delta 5), pack-reused 332\u001b[K\n",
      "Receiving objects: 100% (346/346), 109.42 KiB | 3.65 MiB/s, done.\n",
      "Resolving deltas: 100% (190/190), done.\n",
      "Mon Aug 29 16:32:01 2022\n"
     ]
    }
   ],
   "source": [
    "#!git clone https://github.com/asigalov61/MusicTransformer-Pytorch\n",
    "!git clone https://github.com/gwinndr/MusicTransformer-Pytorch\n",
    "\n",
    "print(time.asctime( time.localtime( time.time() ) ))"
   ]
  },
  {
   "cell_type": "markdown",
   "metadata": {
    "id": "05hD19W0hSCP"
   },
   "source": [
    "## 2.3: QA"
   ]
  },
  {
   "cell_type": "code",
   "execution_count": 19,
   "metadata": {},
   "outputs": [
    {
     "name": "stdout",
     "output_type": "stream",
     "text": [
      "/home/mnt3p22/sp3_1\n",
      "total 8\n",
      "drwxrwxr-x 7 mnt3p22 mnt3p22 4096 Aug 29 16:32 MusicTransformer-Pytorch\n",
      "drwxrwxr-x 4 mnt3p22 mnt3p22 4096 Aug 29 16:29 midi-neural-processor\n",
      "Mon Aug 29 17:48:23 2022\n"
     ]
    }
   ],
   "source": [
    "!pwd\n",
    "!ls -ltA\n",
    "\n",
    "print(time.asctime( time.localtime( time.time() ) ))"
   ]
  },
  {
   "cell_type": "markdown",
   "metadata": {
    "id": "05hD19W0hSCP"
   },
   "source": [
    "## 3.1: Download pre-trained NN models  !!!!!!!!NONE!!!!!!!!!!!!"
   ]
  },
  {
   "cell_type": "code",
   "execution_count": 23,
   "metadata": {},
   "outputs": [
    {
     "name": "stdout",
     "output_type": "stream",
     "text": [
      "mkdir: cannot create directory ‘MusicTransformer-Pytorch/rpr’: File exists\n",
      "mkdir: cannot create directory ‘MusicTransformer-Pytorch/rpr/results’: File exists\n",
      "/home/mnt3p22/sp3_1/MusicTransformer-Pytorch/rpr/results\n",
      "--2022-08-30 09:31:59--  https://superpiano.s3-us-west-1.amazonaws.com/SuperPiano3models.zip\n",
      "Resolving superpiano.s3-us-west-1.amazonaws.com (superpiano.s3-us-west-1.amazonaws.com)... 52.219.113.41\n",
      "Connecting to superpiano.s3-us-west-1.amazonaws.com (superpiano.s3-us-west-1.amazonaws.com)|52.219.113.41|:443... connected.\n",
      "HTTP request sent, awaiting response... 404 Not Found\n",
      "2022-08-30 09:32:15 ERROR 404: Not Found.\n",
      "\n",
      "unzip:  cannot find or open SuperPiano3models.zip, SuperPiano3models.zip.zip or SuperPiano3models.zip.ZIP.\n",
      "[Errno 2] No such file or directory: 'MusicTransformer-Pytorch/'\n",
      "/home/mnt3p22/sp3_1/MusicTransformer-Pytorch/rpr/results\n",
      "Tue Aug 30 09:32:15 2022\n"
     ]
    }
   ],
   "source": [
    "# (Optional) Pre-trained models download (2 models trained for 100 epochs to 1.968 FLoss and 0.420 acc)\n",
    "!mkdir MusicTransformer-Pytorch/rpr\n",
    "!mkdir MusicTransformer-Pytorch/rpr/results\n",
    "\n",
    "%cd MusicTransformer-Pytorch/rpr/results\n",
    "!wget 'https://superpiano.s3-us-west-1.amazonaws.com/SuperPiano3models.zip'\n",
    "!unzip SuperPiano3models.zip\n",
    "%cd MusicTransformer-Pytorch/\n",
    "\n",
    "print(time.asctime( time.localtime( time.time() ) ))"
   ]
  },
  {
   "cell_type": "markdown",
   "metadata": {
    "id": "05hD19W0hSCP"
   },
   "source": [
    "## 4.1: Download music dataset: Google Magenta MARESTRO v.2.0.0 Piano MIDI Dataset (~1300 MIDIs)"
   ]
  },
  {
   "cell_type": "code",
   "execution_count": 4,
   "metadata": {
    "scrolled": true,
    "tags": []
   },
   "outputs": [
    {
     "name": "stdout",
     "output_type": "stream",
     "text": [
      "[Errno 2] No such file or directory: '$YourHomeDir/$YourProjectSubDir'\n",
      "/home/mnt3p22\n",
      "mkdir: cannot create directory ‘MusicTransformer-Pytorch/dataset’: File exists\n",
      "/home/mnt3p22/MusicTransformer-Pytorch/dataset\n"
     ]
    },
    {
     "name": "stderr",
     "output_type": "stream",
     "text": [
      "UsageError: Line magic function `%%capture` not found.\n"
     ]
    }
   ],
   "source": [
    "#!pwd\n",
    "\n",
    "%cd $YourHomeDir/$YourProjectSubDir\n",
    "\n",
    "!mkdir MusicTransformer-Pytorch/dataset\n",
    "%cd MusicTransformer-Pytorch/dataset/\n",
    "\n",
    "# capture the long output log\n",
    "#%%capture capd410\n",
    "\n",
    "!wget 'https://storage.googleapis.com/magentadata/datasets/maestro/v2.0.0/maestro-v2.0.0-midi.zip'\n",
    "!unzip maestro-v2.0.0-midi.zip\n",
    "\n",
    "\"\"\"\n",
    "#%cd /content/MusicTransformer-Pytorch/\n",
    "%cd /home/mnt3p22/MusicTransformer-Pytorch/\n",
    "\"\"\"\n",
    "\n",
    "print(time.asctime( time.localtime( time.time() ) ))"
   ]
  },
  {
   "cell_type": "markdown",
   "metadata": {
    "id": "05hD19W0hSCP"
   },
   "source": [
    "## 4.2: Prepare the directories, and the MIDI processor code"
   ]
  },
  {
   "cell_type": "code",
   "execution_count": 33,
   "metadata": {},
   "outputs": [
    {
     "name": "stdout",
     "output_type": "stream",
     "text": [
      "/home/mnt3p22/sp3_1\n",
      "mv: cannot stat 'midi-neural-processor': No such file or directory\n",
      "/home/mnt3p22/sp3_1/MusicTransformer-Pytorch\n",
      "Wed Aug 31 14:30:35 2022\n"
     ]
    }
   ],
   "source": [
    "#%cd /content/\n",
    "%cd $YourHomeDir/$YourProjectSubDir\n",
    "\n",
    "# this is a renaming!\n",
    "!mv midi-neural-processor midi_processor\n",
    "\n",
    "# do for code preprocess_midi.py : import third_party.midi_processor.processor as midi_processor\n",
    "!cp -r midi_processor/* $YourHomeDir/$YourProjectSubDir/MusicTransformer-Pytorch/third_party/midi_processor/\n",
    "\n",
    "\n",
    "#%cd /content/MusicTransformer-Pytorch/\n",
    "%cd $YourHomeDir/$YourProjectSubDir/MusicTransformer-Pytorch/\n",
    "\n",
    "print(time.asctime( time.localtime( time.time() ) ))"
   ]
  },
  {
   "cell_type": "code",
   "execution_count": null,
   "metadata": {},
   "outputs": [],
   "source": []
  },
  {
   "cell_type": "markdown",
   "metadata": {
    "id": "05hD19W0hSCP"
   },
   "source": [
    "## 4.3: Process the MIDI dataset"
   ]
  },
  {
   "cell_type": "code",
   "execution_count": 36,
   "metadata": {},
   "outputs": [
    {
     "name": "stdout",
     "output_type": "stream",
     "text": [
      "/home/mnt3p22/sp3_1/MusicTransformer-Pytorch\n",
      "Preprocessing midi files and saving to ./dataset/e_piano\n",
      "Found 1282 pieces\n",
      "Preprocessing...\n",
      "50 / 1282\n",
      "100 / 1282\n",
      "150 / 1282\n",
      "200 / 1282\n",
      "250 / 1282\n",
      "300 / 1282\n",
      "350 / 1282\n",
      "400 / 1282\n",
      "450 / 1282\n",
      "500 / 1282\n",
      "550 / 1282\n",
      "600 / 1282\n",
      "650 / 1282\n",
      "700 / 1282\n",
      "750 / 1282\n",
      "800 / 1282\n",
      "850 / 1282\n",
      "900 / 1282\n",
      "950 / 1282\n",
      "1000 / 1282\n",
      "1050 / 1282\n",
      "1100 / 1282\n",
      "1150 / 1282\n",
      "1200 / 1282\n",
      "1250 / 1282\n",
      "Num Train: 967\n",
      "Num Val: 137\n",
      "Num Test: 178\n",
      "Done!\n",
      "\n",
      "Wed Aug 31 14:41:42 2022\n"
     ]
    }
   ],
   "source": [
    "%cd $YourHomeDir/$YourProjectSubDir/MusicTransformer-Pytorch/\n",
    "\n",
    "!python3 preprocess_midi.py $YourHomeDir/$YourProjectSubDir/MusicTransformer-Pytorch/dataset/maestro-v2.0.0\n",
    "\n",
    "print(time.asctime( time.localtime( time.time() ) ))"
   ]
  },
  {
   "cell_type": "markdown",
   "metadata": {
    "id": "05hD19W0hSCP"
   },
   "source": [
    "## 5.1: create directories for downloading further music dataset: Alex also Jason MIDIs"
   ]
  },
  {
   "cell_type": "code",
   "execution_count": 37,
   "metadata": {},
   "outputs": [
    {
     "name": "stdout",
     "output_type": "stream",
     "text": [
      "/home/mnt3p22/sp3_1/MusicTransformer-Pytorch/dataset\n",
      "mkdir: cannot create directory ‘e_piano/’: File exists\n",
      "Wed Aug 31 14:57:28 2022\n"
     ]
    }
   ],
   "source": [
    "\n",
    "\n",
    "## POSTPONE FOR NOW !!!!!!!!!!!!!!!!!!!!!!!!!!!!!!!!!!!!!!!!!!!!!!!\n",
    "# as train test val already created by above!!!\n",
    "\n",
    "\n",
    "\n",
    "\n",
    "\n",
    "%cd $YourHomeDir/$YourProjectSubDir/MusicTransformer-Pytorch/dataset/\n",
    "\n",
    "!mkdir 'e_piano/'\n",
    "\n",
    "\"\"\"\n",
    "!mkdir '/content/MusicTransformer-Pytorch/dataset/e_piano/train'\n",
    "!mkdir '/content/MusicTransformer-Pytorch/dataset/e_piano/test'\n",
    "!mkdir '/content/MusicTransformer-Pytorch/dataset/e_piano/val'\n",
    "!mkdir '/content/MusicTransformer-Pytorch/dataset/e_piano/custom_midis'\n",
    "\n",
    "%cd /content/\n",
    "!mv midi-neural-processor midi_processor\n",
    "%cd /content/MusicTransformer-Pytorch/\n",
    "\"\"\"\n",
    "\n",
    "print(time.asctime( time.localtime( time.time() ) ))\n",
    "\n",
    "\n",
    "\n",
    "\n"
   ]
  },
  {
   "cell_type": "markdown",
   "metadata": {
    "id": "05hD19W0hSCP"
   },
   "source": [
    "# 60: Train NN model"
   ]
  },
  {
   "cell_type": "markdown",
   "metadata": {
    "id": "05hD19W0hSCP"
   },
   "source": [
    "## 61: start Tensorboard, to monitor training the NN model"
   ]
  },
  {
   "cell_type": "code",
   "execution_count": 38,
   "metadata": {},
   "outputs": [
    {
     "name": "stderr",
     "output_type": "stream",
     "text": [
      "2022-08-31 15:01:21.645275: W tensorflow/stream_executor/platform/default/dso_loader.cc:64] Could not load dynamic library 'libcudart.so.11.0'; dlerror: libcudart.so.11.0: cannot open shared object file: No such file or directory\n",
      "2022-08-31 15:01:21.645322: I tensorflow/stream_executor/cuda/cudart_stub.cc:29] Ignore above cudart dlerror if you do not have a GPU set up on your machine.\n"
     ]
    },
    {
     "data": {
      "text/html": [
       "\n",
       "      <iframe id=\"tensorboard-frame-dc6fc63d58165c25\" width=\"100%\" height=\"800\" frameborder=\"0\">\n",
       "      </iframe>\n",
       "      <script>\n",
       "        (function() {\n",
       "          const frame = document.getElementById(\"tensorboard-frame-dc6fc63d58165c25\");\n",
       "          const url = new URL(\"/\", window.location);\n",
       "          const port = 6006;\n",
       "          if (port) {\n",
       "            url.port = port;\n",
       "          }\n",
       "          frame.src = url;\n",
       "        })();\n",
       "      </script>\n",
       "    "
      ],
      "text/plain": [
       "<IPython.core.display.HTML object>"
      ]
     },
     "metadata": {},
     "output_type": "display_data"
    },
    {
     "name": "stdout",
     "output_type": "stream",
     "text": [
      "Wed Aug 31 15:01:29 2022\n"
     ]
    }
   ],
   "source": [
    "#@title Activate Tensorboard Graphs/Stats to monitor/evaluate model perfomance during and after training runs\n",
    "# Load the TensorBoard notebook extension\n",
    "%reload_ext tensorboard\n",
    "import tensorflow as tf\n",
    "import datetime, os\n",
    "%tensorboard --logdir /content/MusicTransformer-Pytorch/rpr\n",
    "\n",
    "print(time.asctime( time.localtime( time.time() ) ))"
   ]
  },
  {
   "cell_type": "markdown",
   "metadata": {
    "id": "05hD19W0hSCP"
   },
   "source": [
    "## 62: Start the NN training"
   ]
  },
  {
   "cell_type": "code",
   "execution_count": null,
   "metadata": {
    "scrolled": true,
    "tags": []
   },
   "outputs": [],
   "source": [
    "# params\n",
    "batch_size = 4 #@param {type:\"slider\", min:0, max:8, step:1}\n",
    "number_of_training_epochs = 150 #@param {type:\"slider\", min:0, max:200, step:1}\n",
    "maximum_output_MIDI_sequence = 2048 #@param {type:\"slider\", min:0, max:8192, step:128}\n",
    "\n",
    "\n",
    "# capture the long output log\n",
    "%%capture capd620\n",
    "\n",
    "# get to the right dir\n",
    "%cd $YourHomeDir/$YourProjectSubDir/MusicTransformer-Pytorch/\n",
    "\n",
    "startt = time.asctime( time.localtime( time.time() ) )\n",
    "\n",
    "# call the py code file\n",
    "!python3 train.py -output_dir rpr --rpr -batch_size=$batch_size \\\n",
    " -epochs=$number_of_training_epochs \\\n",
    " -max_sequence=$maximum_output_MIDI_sequence #-n_layers -nu\n",
    "\n",
    "print(startt)\n",
    "print(time.asctime( time.localtime( time.time() ) ))"
   ]
  },
  {
   "cell_type": "raw",
   "metadata": {},
   "source": [
    "\n",
    "\"\"\"\n",
    "=========================\n",
    "Epoch 150  Batch 242 / 242\n",
    "LR: 0.0002319592559453767\n",
    "Train loss: 1.968206763267517\n",
    "\n",
    "Time (s): 0.3855159282684326\n",
    "=========================\n",
    "\n",
    "=========================\n",
    "Evaluating:\n",
    "Epoch: 150\n",
    "Avg train loss: 1.688991152057963\n",
    "Avg train acc: 0.47898491219548156\n",
    "Avg eval loss: 1.9572171290715537\n",
    "Avg eval acc: 0.42288724647627934\n",
    "=========================\n",
    "\n",
    "Wed Aug 31 22:37:29 2022\n",
    "\"\"\"\n",
    "\n",
    "\n",
    "\n",
    "# utilization\n",
    "\"\"\"\n",
    "\n",
    "Every 5.0s: nvidia-smi       mnt3p22-WS-E900-G4-WS980T: Wed Aug 31 15:06:53 2022\n",
    "\n",
    "Wed Aug 31 15:06:53 2022\n",
    "+-----------------------------------------------------------------------------+\n",
    "| NVIDIA-SMI 470.141.03   Driver Version: 470.141.03   CUDA Version: 11.4     |\n",
    "|-------------------------------+----------------------+----------------------+\n",
    "| GPU  Name        Persistence-M| Bus-Id        Disp.A | Volatile Uncorr. ECC |\n",
    "| Fan  Temp  Perf  Pwr:Usage/Cap|         Memory-Usage | GPU-Util  Compute M. |\n",
    "|                               |                      |               MIG M. |\n",
    "|===============================+======================+======================|\n",
    "|   0  Quadro RTX 8000     Off  | 00000000:3B:00.0  On |                  Off |\n",
    "| 33%   56C    P2   194W / 260W |   5430MiB / 48600MiB |     71%      Default |\n",
    "|                               |                      |                  N/A |\n",
    "+-------------------------------+----------------------+----------------------+\n",
    "\n",
    "+-----------------------------------------------------------------------------+\n",
    "| Processes:                                                                  |\n",
    "|  GPU   GI   CI        PID   Type   Process name                  GPU Memory |\n",
    "|        ID   ID                                                   Usage      |\n",
    "|=============================================================================|\n",
    "|    0   N/A  N/A      1224      G   /usr/lib/xorg/Xorg                214MiB |\n",
    "|    0   N/A  N/A      2010      G   /usr/lib/xorg/Xorg               1005MiB |\n",
    "|    0   N/A  N/A      2170      G   /usr/bin/gnome-shell               96MiB |\n",
    "|    0   N/A  N/A      3858      G   /usr/lib/firefox/firefox          188MiB |\n",
    "|    0   N/A  N/A    114616      C   python3                          3911MiB |\n",
    "+-----------------------------------------------------------------------------+\n",
    "\n",
    "\n",
    "\n",
    "very 5.0s: nvidia-smi       mnt3p22-WS-E900-G4-WS980T: Wed Aug 31 15:14:38 2022\n",
    "\n",
    "Wed Aug 31 15:14:38 2022\n",
    "+-----------------------------------------------------------------------------+\n",
    "| NVIDIA-SMI 470.141.03   Driver Version: 470.141.03   CUDA Version: 11.4     |\n",
    "|-------------------------------+----------------------+----------------------+\n",
    "| GPU  Name        Persistence-M| Bus-Id        Disp.A | Volatile Uncorr. ECC |\n",
    "| Fan  Temp  Perf  Pwr:Usage/Cap|         Memory-Usage | GPU-Util  Compute M. |\n",
    "|                               |                      |               MIG M. |\n",
    "|===============================+======================+======================|\n",
    "|   0  Quadro RTX 8000     Off  | 00000000:3B:00.0  On |                  Off |\n",
    "| 56%   76C    P2   244W / 260W |  16828MiB / 48600MiB |    100%      Default |\n",
    "|                               |                      |                  N/A |\n",
    "+-------------------------------+----------------------+----------------------+\n",
    "\n",
    "+-----------------------------------------------------------------------------+\n",
    "| Processes:                                                                  |\n",
    "|  GPU   GI   CI        PID   Type   Process name                  GPU Memory |\n",
    "|        ID   ID                                                   Usage      |\n",
    "|=============================================================================|\n",
    "|    0   N/A  N/A      1224      G   /usr/lib/xorg/Xorg                214MiB |\n",
    "|    0   N/A  N/A      2010      G   /usr/lib/xorg/Xorg               1005MiB |\n",
    "|    0   N/A  N/A      2170      G   /usr/bin/gnome-shell              102MiB |\n",
    "|    0   N/A  N/A      3858      G   /usr/lib/firefox/firefox          178MiB |\n",
    "|    0   N/A  N/A    114616      C   python3                         15313MiB |\n",
    "+-----------------------------------------------------------------------------+\n",
    "\n",
    "\n",
    "\n",
    "\n",
    "\n",
    "op - 15:07:10 up 2 days,  7:28,  1 user,  load average: 4.06, 1.46, 0.82\n",
    "Tasks: 540 total,   2 running, 538 sleeping,   0 stopped,   0 zombie\n",
    "%Cpu(s): 28.1 us,  2.6 sy,  0.0 ni, 69.3 id,  0.0 wa,  0.0 hi,  0.0 si,  0.0 st\n",
    "GiB Mem :    502.5 total,    490.6 free,      8.2 used,      3.7 buff/cache\n",
    "GiB Swap:      2.0 total,      2.0 free,      0.0 used.    491.5 avail Mem \n",
    "\n",
    "    PID USER      PR  NI    VIRT    RES    SHR S  %CPU  %MEM     TIME+ COMMAND  \n",
    " 114616 mnt3p22   20   0   16.8g   3.3g 694436 R 921.3   0.6   4:37.61 python3  \n",
    "   2170 mnt3p22   20   0 4602784 466876 125308 S  14.5   0.1  31:41.87 gnome-s+ \n",
    "   4077 mnt3p22   20   0 2794464 359140 104780 S  11.6   0.1  76:46.23 Isolate+ \n",
    "   3858 mnt3p22   20   0 4329612 719148 274980 S  11.4   0.1  81:49.45 firefox  \n",
    " 114705 mnt3p22   20   0   13.7g   2.6g  92360 S   6.6   0.5   0:02.81 python3  \n",
    "   2010 root      20   0   26.3g 124296  73212 S   6.2   0.0   7:11.02 Xorg     \n",
    "   3625 mnt3p22   20   0 1214892  88736  48692 S   3.4   0.0   1:01.31 nautilus \n",
    "   4202 mnt3p22   20   0 4159896 372532 171736 S   3.2   0.1   0:35.33 python3  \n",
    "   3604 mnt3p22   20   0  828868  61892  40136 S   3.0   0.0   4:32.23 gnome-t+ \n",
    "   1359 root     -51   0       0      0      0 S   1.4   0.0  13:51.61 irq/79-+ \n",
    "   1361 root      20   0       0      0      0 S   0.6   0.0   0:35.82 nv_queue \n",
    "   1530 gdm       20   0 4140348 197788 119528 S   0.4   0.0   1:47.97 gnome-s+ \n",
    "   4864 mnt3p22   20   0   12244   4300   3136 R   0.4   0.0  12:05.09 top      \n",
    " 107915 mnt3p22   20   0 2713136 303800 107420 S   0.4   0.1   4:41.58 Isolate+ \n",
    "   2589 mnt3p22   20   0  493700  28304  18940 S   0.2   0.0   0:01.14 xdg-des+ \n",
    "   3039 mnt3p22   20   0  420372  31256  21772 S   0.2   0.0   0:05.71 update-+ \n",
    "   4072 mnt3p22   20   0 2519984 134852  95652 S   0.2   0.0   1:10.25 Privile+ \n",
    "\n",
    "\n",
    "\n",
    "\n",
    "PowerTOP v2.11    Overview   Idle stats   Frequency stats   Device stats   Tunab\n",
    "\n",
    "\n",
    "System baseline power is estimated at 88.3 W\n",
    "\n",
    "Power est.    Usage     Device name\n",
    "  37.5 W    941.0%        DRAM\n",
    "  25.4 W    941.0%        CPU misc\n",
    "  13.6 W    941.0%        DRAM\n",
    "  11.8 W    941.0%        CPU misc\n",
    "    0 mW    941.0%        CPU core\n",
    "            100.0%        PCI Device: Intel Corporation Sky Lake-E VT-d\n",
    "            100.0%        PCI Device: Intel Corporation Sky Lake-E PCU Registers\n",
    "            100.0%        PCI Device: Intel Corporation Sky Lake-E CHA Registers\n",
    "            100.0%        PCI Device: Intel Corporation Sky Lake-E M3KTI Registe\n",
    "            100.0%        PCI Device: Intel Corporation Sky Lake-E CHA Registers\n",
    "            100.0%        PCI Device: Intel Corporation Sky Lake-E DECS Channel\n",
    "            100.0%        PCI Device: Intel Corporation Sky Lake-E VT-d\n",
    "            100.0%        PCI Device: Intel Corporation Sky Lake-E LMS Channel 2\n",
    "            100.0%        PCI Device: Intel Corporation Sky Lake-E CHA Registers\n",
    "            100.0%        PCI Device: Intel Corporation Sky Lake-E LMDP Channel\n",
    "            100.0%        PCI Device: Intel Corporation Sky Lake-E Integrated Me\n",
    "\n",
    "<ESC> Exit | <TAB> / <Shift + TAB> Navigate |                                   \n",
    "\n",
    "\"\"\"\n"
   ]
  },
  {
   "cell_type": "markdown",
   "metadata": {
    "id": "05hD19W0hSCP"
   },
   "source": [
    "## 63: Evaluate the trained model: Accuracy"
   ]
  },
  {
   "cell_type": "code",
   "execution_count": 41,
   "metadata": {},
   "outputs": [
    {
     "name": "stdout",
     "output_type": "stream",
     "text": [
      "/home/mnt3p22/sp3_1/MusicTransformer-Pytorch\n",
      "=========================\n",
      "dataset_dir: ./dataset/e_piano\n",
      "model_weights: rpr/results/best_acc_weights.pickle\n",
      "n_workers: 1\n",
      "force_cpu: False\n",
      "\n",
      "batch_size: 2\n",
      "\n",
      "rpr: True\n",
      "max_sequence: 2048\n",
      "n_layers: 6\n",
      "num_heads: 8\n",
      "d_model: 512\n",
      "\n",
      "dim_feedforward: 1024\n",
      "=========================\n",
      "\n",
      "Evaluating:\n",
      "Avg loss: 1.9592132822851116\n",
      "Avg acc: 0.42570022954029985\n",
      "=========================\n",
      "\n",
      "Thu Sep  1 17:31:04 2022\n"
     ]
    }
   ],
   "source": [
    "# get to the right dir\n",
    "%cd $YourHomeDir/$YourProjectSubDir/MusicTransformer-Pytorch/\n",
    "\n",
    "#@title Evaluate Best Resulting Accuracy Model (best_acc_weights.pickle)\n",
    "!python3 evaluate.py -model_weights rpr/results/best_acc_weights.pickle --rpr\n",
    "\n",
    "print(time.asctime( time.localtime( time.time() ) ))"
   ]
  },
  {
   "cell_type": "markdown",
   "metadata": {
    "id": "05hD19W0hSCP"
   },
   "source": [
    "## 63.2: Evaluate the trained model: Loss"
   ]
  },
  {
   "cell_type": "code",
   "execution_count": 42,
   "metadata": {},
   "outputs": [
    {
     "name": "stdout",
     "output_type": "stream",
     "text": [
      "/home/mnt3p22/sp3_1/MusicTransformer-Pytorch\n",
      "=========================\n",
      "dataset_dir: ./dataset/e_piano\n",
      "model_weights: rpr/results/best_loss_weights.pickle\n",
      "n_workers: 1\n",
      "force_cpu: False\n",
      "\n",
      "batch_size: 2\n",
      "\n",
      "rpr: True\n",
      "max_sequence: 2048\n",
      "n_layers: 6\n",
      "num_heads: 8\n",
      "d_model: 512\n",
      "\n",
      "dim_feedforward: 1024\n",
      "=========================\n",
      "\n",
      "Evaluating:\n",
      "Avg loss: 1.9829141638252172\n",
      "Avg acc: 0.4187502713685625\n",
      "=========================\n",
      "\n",
      "Thu Sep  1 17:33:27 2022\n"
     ]
    }
   ],
   "source": [
    "# get to the right dir\n",
    "%cd $YourHomeDir/$YourProjectSubDir/MusicTransformer-Pytorch/\n",
    "\n",
    "#@title Evaluate Best Resulting Loss Model (best_loss_weights.pickle)\n",
    "!python3 evaluate.py -model_weights rpr/results/best_loss_weights.pickle --rpr\n",
    "\n",
    "print(time.asctime( time.localtime( time.time() ) ))"
   ]
  },
  {
   "cell_type": "markdown",
   "metadata": {
    "id": "05hD19W0hSCP"
   },
   "source": [
    "# 70: Generate music using the trained NN model"
   ]
  },
  {
   "cell_type": "markdown",
   "metadata": {
    "id": "05hD19W0hSCP"
   },
   "source": [
    "## 71: Assign values for parameters of music generation"
   ]
  },
  {
   "cell_type": "code",
   "execution_count": 57,
   "metadata": {},
   "outputs": [
    {
     "name": "stdout",
     "output_type": "stream",
     "text": [
      "/home/mnt3p22/sp3_1/midi_processor\n",
      "Thu Sep  1 18:05:43 2022\n"
     ]
    }
   ],
   "source": [
    "#@title Generate, Plot, Graph, Save, Download, and Render the resulting output\n",
    "\n",
    "number_of_tokens_to_generate = 1023 #@param {type:\"slider\", min:1, max:2048, step:1}\n",
    "priming_sequence_length = 65 #@param {type:\"slider\", min:1, max:2048, step:8}\n",
    "maximum_possible_output_sequence = 2048 #@param {type:\"slider\", min:0, max:2048, step:8}\n",
    "\n",
    "#@param [\"/content/MusicTransformer-Pytorch/rpr/results/best_acc_weights.pickle\", \"/content/MusicTransformer-Pytorch/rpr/results/best_loss_weights.pickle\"]\n",
    "select_model = YourHomeDir + '/' + YourProjectSubDir + '/' + \"MusicTransformer-Pytorch/rpr/results/best_loss_weights.pickle\" \n",
    "\n",
    "custom_MIDI = \"\" #@param {type:\"string\"}\n",
    "\n",
    "\n",
    "# get to the right dir\n",
    "%cd $YourHomeDir/$YourProjectSubDir/midi_processor\n",
    "#\n",
    "import processor\n",
    "from processor import encode_midi, decode_midi\n",
    "\n",
    "print(time.asctime( time.localtime( time.time() ) ))"
   ]
  },
  {
   "cell_type": "markdown",
   "metadata": {
    "id": "05hD19W0hSCP"
   },
   "source": [
    "## 72: Execute the generation code: make music!"
   ]
  },
  {
   "cell_type": "code",
   "execution_count": 66,
   "metadata": {
    "scrolled": true,
    "tags": []
   },
   "outputs": [
    {
     "name": "stdout",
     "output_type": "stream",
     "text": [
      "/home/mnt3p22/sp3_1/MusicTransformer-Pytorch\n",
      "=========================\n",
      "midi_root: ./dataset/e_piano/\n",
      "output_dir: /home/mnt3p22//sp3_1/MusicTransformer-Pytorch/generated/1662070746\n",
      "primer_file: None\n",
      "force_cpu: False\n",
      "\n",
      "target_seq_length: 1023\n",
      "num_prime: 65\n",
      "model_weights: /home/mnt3p22//sp3_1/MusicTransformer-Pytorch/rpr/results/best_loss_weights.pickle\n",
      "beam: 0\n",
      "\n",
      "rpr: True\n",
      "max_sequence: 2048\n",
      "n_layers: 6\n",
      "num_heads: 8\n",
      "d_model: 512\n",
      "\n",
      "dim_feedforward: 1024\n",
      "=========================\n",
      "\n",
      "Using primer index: 152 ( ./dataset/e_piano/test/MIDI-Unprocessed_01_R1_2006_01-09_ORIG_MID--AUDIO_01_R1_2006_04_Track04_wav.midi.pickle )\n",
      "RAND DIST\n",
      "Generating sequence of max length: 1023\n",
      "100 / 1023\n",
      "150 / 1023\n",
      "200 / 1023\n",
      "250 / 1023\n",
      "300 / 1023\n",
      "350 / 1023\n",
      "400 / 1023\n",
      "450 / 1023\n",
      "500 / 1023\n",
      "550 / 1023\n",
      "600 / 1023\n",
      "650 / 1023\n",
      "700 / 1023\n",
      "750 / 1023\n",
      "800 / 1023\n",
      "850 / 1023\n",
      "900 / 1023\n",
      "950 / 1023\n",
      "1000 / 1023\n",
      "info removed pitch: 58\n",
      "Successfully exported the output to output folder. To primer.mid and rand.mid\n",
      "Thu Sep  1 18:19:06 2022\n",
      "Thu Sep  1 18:19:23 2022\n"
     ]
    }
   ],
   "source": [
    "# auto-time-stamped subdir to save the music\n",
    "DirToSaveGeneratedMusic = YourHomeDir + '/' + YourProjectSubDir + '/' + \"MusicTransformer-Pytorch/generated/\" + str(int(time.time()))\n",
    "\n",
    "\n",
    "# get to the right dir\n",
    "%cd $YourHomeDir/$YourProjectSubDir/MusicTransformer-Pytorch\n",
    "\n",
    "# time keeping\n",
    "startt = time.asctime( time.localtime( time.time() ) )\n",
    "\n",
    "!python3 generate.py -output_dir $DirToSaveGeneratedMusic -model_weights=$select_model --rpr \\\n",
    " -target_seq_length=$number_of_tokens_to_generate -num_prime=$priming_sequence_length \\\n",
    " -max_sequence=$maximum_possible_output_sequence $custom_MIDI #\n",
    "\n",
    "print('Successfully exported the output to output folder. To primer.mid and rand.mid')\n",
    "\n",
    "print(startt)\n",
    "print(time.asctime( time.localtime( time.time() ) ))"
   ]
  },
  {
   "cell_type": "markdown",
   "metadata": {
    "id": "05hD19W0hSCP"
   },
   "source": [
    "## 73: List the music files generated"
   ]
  },
  {
   "cell_type": "code",
   "execution_count": 6,
   "metadata": {},
   "outputs": [
    {
     "name": "stdout",
     "output_type": "stream",
     "text": [
      "/home/mnt3p22//sp3_1/MusicTransformer-Pytorch/generated/:\n",
      "total 24\n",
      "drwxrwxr-x 2 mnt3p22 mnt3p22 4096 Sep  1 18:19 1662070746\n",
      "drwxrwxr-x 2 mnt3p22 mnt3p22 4096 Sep  1 18:17 1662070633\n",
      "drwxrwxr-x 2 mnt3p22 mnt3p22 4096 Sep  1 18:10 1662070197\n",
      "drwxrwxr-x 2 mnt3p22 mnt3p22 4096 Sep  1 18:06 1662069943\n",
      "-rw-rw-r-- 1 mnt3p22 mnt3p22 1694 Sep  1 18:04 rand.mid\n",
      "-rw-rw-r-- 1 mnt3p22 mnt3p22  165 Sep  1 18:03 primer.mid\n",
      "\n",
      "/home/mnt3p22//sp3_1/MusicTransformer-Pytorch/generated/1662070746:\n",
      "total 8\n",
      "-rw-rw-r-- 1 mnt3p22 mnt3p22 1452 Sep  1 18:19 rand.mid\n",
      "-rw-rw-r-- 1 mnt3p22 mnt3p22  165 Sep  1 18:19 primer.mid\n",
      "\n",
      "/home/mnt3p22//sp3_1/MusicTransformer-Pytorch/generated/1662070633:\n",
      "total 8\n",
      "-rw-rw-r-- 1 mnt3p22 mnt3p22 1359 Sep  1 18:17 rand.mid\n",
      "-rw-rw-r-- 1 mnt3p22 mnt3p22  159 Sep  1 18:17 primer.mid\n",
      "\n",
      "/home/mnt3p22//sp3_1/MusicTransformer-Pytorch/generated/1662070197:\n",
      "total 8\n",
      "-rw-rw-r-- 1 mnt3p22 mnt3p22 1476 Sep  1 18:10 rand.mid\n",
      "-rw-rw-r-- 1 mnt3p22 mnt3p22  169 Sep  1 18:10 primer.mid\n",
      "\n",
      "/home/mnt3p22//sp3_1/MusicTransformer-Pytorch/generated/1662069943:\n",
      "total 8\n",
      "-rw-rw-r-- 1 mnt3p22 mnt3p22 1578 Sep  1 18:06 rand.mid\n",
      "-rw-rw-r-- 1 mnt3p22 mnt3p22  130 Sep  1 18:05 primer.mid\n",
      "Fri Sep  2 15:54:05 2022\n"
     ]
    }
   ],
   "source": [
    "!ls -ltAR $YourHomeDir/$YourProjectSubDir/MusicTransformer-Pytorch/generated/\n",
    "\n",
    "print(time.asctime( time.localtime( time.time() ) ))"
   ]
  },
  {
   "cell_type": "code",
   "execution_count": null,
   "metadata": {},
   "outputs": [],
   "source": []
  },
  {
   "cell_type": "code",
   "execution_count": null,
   "metadata": {},
   "outputs": [],
   "source": []
  }
 ],
 "metadata": {
  "accelerator": "GPU",
  "colab": {
   "collapsed_sections": [],
   "machine_shape": "hm",
   "name": "Super_Piano_3.ipynb",
   "provenance": []
  },
  "kernelspec": {
   "display_name": "Python 3 (ipykernel)",
   "language": "python",
   "name": "python3"
  },
  "language_info": {
   "codemirror_mode": {
    "name": "ipython",
    "version": 3
   },
   "file_extension": ".py",
   "mimetype": "text/x-python",
   "name": "python",
   "nbconvert_exporter": "python",
   "pygments_lexer": "ipython3",
   "version": "3.8.10"
  }
 },
 "nbformat": 4,
 "nbformat_minor": 4
}
